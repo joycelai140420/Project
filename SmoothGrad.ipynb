{
 "cells": [
  {
   "cell_type": "code",
   "execution_count": 2,
   "id": "0a2c8822",
   "metadata": {},
   "outputs": [
    {
     "name": "stdout",
     "output_type": "stream",
     "text": [
      "Train on 50000 samples, validate on 10000 samples\n",
      "Epoch 1/10\n",
      "50000/50000 [==============================] - 47s 943us/sample - loss: 1.4839 - accuracy: 0.4609 - val_loss: 1.2186 - val_accuracy: 0.5618\n",
      "Epoch 2/10\n",
      "50000/50000 [==============================] - 49s 989us/sample - loss: 1.1261 - accuracy: 0.6016 - val_loss: 1.0409 - val_accuracy: 0.6270\n",
      "Epoch 3/10\n",
      "50000/50000 [==============================] - 55s 1ms/sample - loss: 0.9813 - accuracy: 0.6556 - val_loss: 0.9818 - val_accuracy: 0.6531\n",
      "Epoch 4/10\n",
      "50000/50000 [==============================] - 59s 1ms/sample - loss: 0.8858 - accuracy: 0.6904 - val_loss: 0.9206 - val_accuracy: 0.6793\n",
      "Epoch 5/10\n",
      "50000/50000 [==============================] - 58s 1ms/sample - loss: 0.8145 - accuracy: 0.7145 - val_loss: 0.8790 - val_accuracy: 0.6946\n",
      "Epoch 6/10\n",
      "50000/50000 [==============================] - 58s 1ms/sample - loss: 0.7506 - accuracy: 0.7365 - val_loss: 0.8679 - val_accuracy: 0.7002\n",
      "Epoch 7/10\n",
      "50000/50000 [==============================] - 49s 971us/sample - loss: 0.6998 - accuracy: 0.7538 - val_loss: 0.8733 - val_accuracy: 0.6978\n",
      "Epoch 8/10\n",
      "50000/50000 [==============================] - 51s 1ms/sample - loss: 0.6572 - accuracy: 0.7697 - val_loss: 0.8740 - val_accuracy: 0.7039\n",
      "Epoch 9/10\n",
      "50000/50000 [==============================] - 51s 1ms/sample - loss: 0.6138 - accuracy: 0.7850 - val_loss: 0.8703 - val_accuracy: 0.7048\n",
      "Epoch 10/10\n",
      "50000/50000 [==============================] - 51s 1ms/sample - loss: 0.5697 - accuracy: 0.8010 - val_loss: 0.8712 - val_accuracy: 0.7096\n"
     ]
    },
    {
     "data": {
      "image/png": "[encoded data removed]",
      "text/plain": [
       "<Figure size 720x360 with 2 Axes>"
      ]
     },
     "metadata": {
      "needs_background": "light"
     },
     "output_type": "display_data"
    }
   ],
   "source": [
    "import tensorflow as tf\n",
    "import numpy as np\n",
    "import matplotlib.pyplot as plt\n",
    "\n",
    "# 加载并预处理CIFAR-10数据集\n",
    "(x_train, y_train), (x_test, y_test) = tf.keras.datasets.cifar10.load_data()\n",
    "x_train, x_test = x_train / 255.0, x_test / 255.0\n",
    "\n",
    "# 构建简单的CNN模型\n",
    "model = tf.keras.models.Sequential([\n",
    "    tf.keras.layers.Conv2D(32, (3, 3), activation='relu', input_shape=(32, 32, 3)),\n",
    "    tf.keras.layers.MaxPooling2D((2, 2)),\n",
    "    tf.keras.layers.Conv2D(64, (3, 3), activation='relu'),\n",
    "    tf.keras.layers.MaxPooling2D((2, 2)),\n",
    "    tf.keras.layers.Conv2D(64, (3, 3), activation='relu'),\n",
    "    tf.keras.layers.Flatten(),\n",
    "    tf.keras.layers.Dense(64, activation='relu'),\n",
    "    tf.keras.layers.Dense(10)\n",
    "])\n",
    "\n",
    "model.compile(optimizer='adam',\n",
    "              loss=tf.keras.losses.SparseCategoricalCrossentropy(from_logits=True),\n",
    "              metrics=['accuracy'])\n",
    "\n",
    "model.fit(x_train, y_train, epochs=10, validation_data=(x_test, y_test))\n",
    "\n",
    "# 选择测试集中的一张图像进行可视化\n",
    "image_index = 0\n",
    "image = x_test[image_index:image_index+1]\n",
    "label = y_test[image_index]\n",
    "\n",
    "# 转换为张量并确保数据类型为float32\n",
    "image = tf.convert_to_tensor(image, dtype=tf.float32)\n",
    "label = tf.convert_to_tensor(label, dtype=tf.float32)\n",
    "\n",
    "def compute_saliency_maps(image, label):\n",
    "    with tf.GradientTape() as tape:\n",
    "        tape.watch(image)\n",
    "        predictions = model(image)\n",
    "        loss = tf.keras.losses.sparse_categorical_crossentropy(label, predictions)\n",
    "    gradient = tape.gradient(loss, image)\n",
    "    return tf.abs(gradient)\n",
    "\n",
    "def smooth_grad(image, label, n_samples=50, noise_level=0.1):\n",
    "    smooth_grad = tf.zeros_like(image, dtype=tf.float32)\n",
    "    for i in range(n_samples):\n",
    "        noise = tf.random.normal(shape=image.shape, mean=0.0, stddev=noise_level, dtype=tf.float32)\n",
    "        noisy_image = image + noise\n",
    "        grad = compute_saliency_maps(noisy_image, label)\n",
    "        smooth_grad += grad\n",
    "    return smooth_grad / n_samples\n",
    "\n",
    "# 计算SmoothGrad显著图\n",
    "smooth_saliency_map = smooth_grad(image, label)\n",
    "\n",
    "# 取最大通道值并去掉批次维度\n",
    "smooth_saliency_map = tf.reduce_max(smooth_saliency_map, axis=-1)[0]\n",
    "\n",
    "# 可视化原图像和SmoothGrad显著图\n",
    "plt.figure(figsize=(10, 5))\n",
    "\n",
    "plt.subplot(1, 2, 1)\n",
    "plt.title(\"Original Image\")\n",
    "plt.imshow(image[0])\n",
    "\n",
    "plt.subplot(1, 2, 2)\n",
    "plt.title(\"SmoothGrad Saliency Map\")\n",
    "plt.imshow(smooth_saliency_map, cmap='hot')\n",
    "\n",
    "plt.show()\n"
   ]
  },
  {
   "cell_type": "code",
   "execution_count": null,
   "id": "7d6dcb7a",
   "metadata": {},
   "outputs": [],
   "source": []
  }
 ],
 "metadata": {
  "kernelspec": {
   "display_name": "Python 3",
   "language": "python",
   "name": "python3"
  },
  "language_info": {
   "codemirror_mode": {
    "name": "ipython",
    "version": 3
   },
   "file_extension": ".py",
   "mimetype": "text/x-python",
   "name": "python",
   "nbconvert_exporter": "python",
   "pygments_lexer": "ipython3",
   "version": "3.6.13"
  }
 },
 "nbformat": 4,
 "nbformat_minor": 5
}
