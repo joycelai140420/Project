{
 "cells": [
  {
   "cell_type": "code",
   "execution_count": 2,
   "id": "1705212d",
   "metadata": {},
   "outputs": [
    {
     "name": "stdout",
     "output_type": "stream",
     "text": [
      "Train on 50000 samples, validate on 10000 samples\n",
      "Epoch 1/10\n",
      "50000/50000 [==============================] - 54s 1ms/sample - loss: 1.5149 - accuracy: 0.4482 - val_loss: 1.2667 - val_accuracy: 0.5431\n",
      "Epoch 2/10\n",
      "50000/50000 [==============================] - 48s 950us/sample - loss: 1.1500 - accuracy: 0.5952 - val_loss: 1.0674 - val_accuracy: 0.6278\n",
      "Epoch 3/10\n",
      "50000/50000 [==============================] - 53s 1ms/sample - loss: 1.0017 - accuracy: 0.6481 - val_loss: 1.0184 - val_accuracy: 0.6426\n",
      "Epoch 4/10\n",
      "50000/50000 [==============================] - 57s 1ms/sample - loss: 0.9014 - accuracy: 0.6846 - val_loss: 0.9259 - val_accuracy: 0.6790\n",
      "Epoch 5/10\n",
      "50000/50000 [==============================] - 58s 1ms/sample - loss: 0.8267 - accuracy: 0.7082 - val_loss: 0.9066 - val_accuracy: 0.6823\n",
      "Epoch 6/10\n",
      "50000/50000 [==============================] - 54s 1ms/sample - loss: 0.7614 - accuracy: 0.7318 - val_loss: 0.8538 - val_accuracy: 0.7104\n",
      "Epoch 7/10\n",
      "50000/50000 [==============================] - 55s 1ms/sample - loss: 0.7105 - accuracy: 0.7493 - val_loss: 0.9195 - val_accuracy: 0.6926\n",
      "Epoch 8/10\n",
      "50000/50000 [==============================] - 54s 1ms/sample - loss: 0.6707 - accuracy: 0.7633 - val_loss: 0.8860 - val_accuracy: 0.7060\n",
      "Epoch 9/10\n",
      "50000/50000 [==============================] - 58s 1ms/sample - loss: 0.6220 - accuracy: 0.7801 - val_loss: 0.8837 - val_accuracy: 0.7042\n",
      "Epoch 10/10\n",
      "50000/50000 [==============================] - 54s 1ms/sample - loss: 0.5861 - accuracy: 0.7922 - val_loss: 0.8995 - val_accuracy: 0.7108\n",
      "WARNING:tensorflow:Layer conv2d_3 is casting an input tensor from dtype float64 to the layer's dtype of float32, which is new behavior in TensorFlow 2.  The layer has dtype float32 because it's dtype defaults to floatx.\n",
      "\n",
      "If you intended to run this layer in float32, you can safely ignore this warning. If in doubt, this warning is likely only an issue if you are porting a TensorFlow 1.X model to TensorFlow 2.\n",
      "\n",
      "To change all layers to have dtype float64 by default, call `tf.keras.backend.set_floatx('float64')`. To change just this layer, pass dtype='float64' to the layer constructor. If you are the author of this layer, you can disable autocasting by passing autocast=False to the base Layer constructor.\n",
      "\n"
     ]
    },
    {
     "data": {
      "image/png": "[encoded data removed]",
      "text/plain": [
       "<Figure size 720x360 with 2 Axes>"
      ]
     },
     "metadata": {
      "needs_background": "light"
     },
     "output_type": "display_data"
    }
   ],
   "source": [
    "import tensorflow as tf\n",
    "import numpy as np\n",
    "import matplotlib.pyplot as plt\n",
    "\n",
    "# 加载并预处理CIFAR-10数据集\n",
    "(x_train, y_train), (x_test, y_test) = tf.keras.datasets.cifar10.load_data()\n",
    "x_train, x_test = x_train / 255.0, x_test / 255.0\n",
    "\n",
    "# 构建简单的CNN模型\n",
    "model = tf.keras.models.Sequential([\n",
    "    tf.keras.layers.Conv2D(32, (3, 3), activation='relu', input_shape=(32, 32, 3)),\n",
    "    tf.keras.layers.MaxPooling2D((2, 2)),\n",
    "    tf.keras.layers.Conv2D(64, (3, 3), activation='relu'),\n",
    "    tf.keras.layers.MaxPooling2D((2, 2)),\n",
    "    tf.keras.layers.Conv2D(64, (3, 3), activation='relu'),\n",
    "    tf.keras.layers.Flatten(),\n",
    "    tf.keras.layers.Dense(64, activation='relu'),\n",
    "    tf.keras.layers.Dense(10)\n",
    "])\n",
    "\n",
    "model.compile(optimizer='adam',\n",
    "              loss=tf.keras.losses.SparseCategoricalCrossentropy(from_logits=True),\n",
    "              metrics=['accuracy'])\n",
    "\n",
    "model.fit(x_train, y_train, epochs=10, validation_data=(x_test, y_test))\n",
    "\n",
    "# 选择测试集中的一张图像进行可视化\n",
    "image_index = 0\n",
    "image = x_test[image_index:image_index+1]\n",
    "label = y_test[image_index]\n",
    "\n",
    "# 转换为张量\n",
    "image = tf.convert_to_tensor(image)\n",
    "label = tf.convert_to_tensor(label)\n",
    "\n",
    "# 获取模型对该图像的预测\n",
    "with tf.GradientTape() as tape:\n",
    "    tape.watch(image)\n",
    "    predictions = model(image)\n",
    "    loss = tf.keras.losses.sparse_categorical_crossentropy(label, predictions)\n",
    "\n",
    "# 计算梯度\n",
    "gradient = tape.gradient(loss, image)\n",
    "saliency_map = tf.reduce_max(tf.abs(gradient), axis=-1)[0]\n",
    "\n",
    "# 可视化原图像和Saliency Map\n",
    "plt.figure(figsize=(10, 5))\n",
    "\n",
    "plt.subplot(1, 2, 1)\n",
    "plt.title(\"Original Image\")\n",
    "plt.imshow(image[0])\n",
    "\n",
    "plt.subplot(1, 2, 2)\n",
    "plt.title(\"Saliency Map\")\n",
    "plt.imshow(saliency_map, cmap='hot')\n",
    "\n",
    "plt.show()\n"
   ]
  },
  {
   "cell_type": "code",
   "execution_count": null,
   "id": "248de92a",
   "metadata": {},
   "outputs": [],
   "source": []
  }
 ],
 "metadata": {
  "kernelspec": {
   "display_name": "Python 3",
   "language": "python",
   "name": "python3"
  },
  "language_info": {
   "codemirror_mode": {
    "name": "ipython",
    "version": 3
   },
   "file_extension": ".py",
   "mimetype": "text/x-python",
   "name": "python",
   "nbconvert_exporter": "python",
   "pygments_lexer": "ipython3",
   "version": "3.6.13"
  }
 },
 "nbformat": 4,
 "nbformat_minor": 5
}
